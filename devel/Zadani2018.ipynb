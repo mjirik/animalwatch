{
 "cells": [
  {
   "cell_type": "markdown",
   "metadata": {},
   "source": [
    "# Zadání 2018 - Najdi chlupa\n",
    "\n",
    "Cílem je nalezení zvířete v krátkém videu z fotopasti. Videa jsou k dispozici u cvičících a obsahují statickou scénu, která se pro danou lokalitu nemění. Mohou obsahovat záběry z různých fází dne. Do scény zpravidla vstoupí lesní tvor, občas se však nahrávání spustí bez zjevné příčiny a video je tvora-prosté.\n",
    "<img src=\"http://home.zcu.cz/~mjirik/lisa/data/lynx_lynx/IMAG0365.JPG\" width=\"600\"/>\n",
    "\n",
    "## Úkol 1 - anotace\n",
    "\n",
    "Pro každé objevyvší se chlupaté stvoření určete ručně v každém snímku bounding-box. Tato data budou použita pro vyhodnocení přesnosti lokalizace výsledného algoritmu. Výstup anotace nechť je uložen v souboru ve formátu YAML a načtení ze souboru pomocí balíku `ruamel.yaml` ať má načtená struktura následující tvar:\n"
   ]
  },
  {
   "cell_type": "code",
   "execution_count": 1,
   "metadata": {},
   "outputs": [],
   "source": [
    "anotace_file1 = {\n",
    "    \"path\": \"cesta_k_souboru/video18.avi\",\n",
    "    \"team\": [\"Miroslav Jirik\", \"Ivan Gruber\"],\n",
    "    \"frames\": {\n",
    "        27: [\n",
    "            { \n",
    "                \"x1\": 41,\n",
    "                \"x2\": 62,\n",
    "                \"y1\": 187,\n",
    "                \"y2\": 189,\n",
    "            }\n",
    "        ]\n",
    "    }\n",
    "}\n",
    "\n",
    "anotace_file2 = {\n",
    "    \"path\": \"cesta_k_souboru/video21.avi\",\n",
    "    \"team\": [\"Miroslav Jirik\", \"Ivan Gruber\"],\n",
    "    \"note\": \"\",\n",
    "    \"frames\": {\n",
    "        15: [\n",
    "            { \n",
    "                \"x1\": 14,\n",
    "                \"x2\": 26,\n",
    "                \"y1\": 78,\n",
    "                \"y2\": 98,\n",
    "            }\n",
    "\n",
    "        ],\n",
    "        16: [\n",
    "            { \n",
    "                \"x1\": 141,\n",
    "                \"x2\": 267,\n",
    "                \"y1\": 198,\n",
    "                \"y2\": 325,\n",
    "            },\n",
    "            { \n",
    "                \"x1\": 141,\n",
    "                \"x2\": 267,\n",
    "                \"y1\": 198,\n",
    "                \"y2\": 325,\n",
    "            }\n",
    "\n",
    "        ]\n",
    "\n",
    "    }\n",
    "}\n"
   ]
  },
  {
   "cell_type": "markdown",
   "metadata": {},
   "source": [
    "## Práce s YAMLem"
   ]
  },
  {
   "cell_type": "code",
   "execution_count": 8,
   "metadata": {},
   "outputs": [],
   "source": [
    "from io import open\n",
    "from ruamel.yaml import YAML\n",
    "yaml = YAML(typ=\"unsafe\")\n",
    "filename = \"anotace.yaml\"\n",
    "\n",
    "with open(filename, 'wt', encoding=\"utf-8\") as f:\n",
    "    yaml.dump(anotace_file2, f)"
   ]
  },
  {
   "cell_type": "code",
   "execution_count": 9,
   "metadata": {},
   "outputs": [],
   "source": [
    "yaml = YAML(typ=\"unsafe\")\n",
    "with open(filename, encoding=\"utf-8\") as f:\n",
    "    obj = yaml.load(f)"
   ]
  },
  {
   "cell_type": "code",
   "execution_count": 19,
   "metadata": {},
   "outputs": [
    {
     "name": "stdout",
     "output_type": "stream",
     "text": [
      "cesta_k_souboru/video21.avi\n"
     ]
    }
   ],
   "source": [
    "print(obj[\"path\"])"
   ]
  },
  {
   "cell_type": "code",
   "execution_count": 17,
   "metadata": {},
   "outputs": [
    {
     "name": "stdout",
     "output_type": "stream",
     "text": [
      "[{'x1': 141, 'x2': 267, 'y1': 198, 'y2': 325}, {'x1': 141, 'x2': 267, 'y1': 198, 'y2': 325}]\n",
      "souradnice x1 prvniho boundingboxu ve framu 16:  141\n"
     ]
    }
   ],
   "source": [
    "print(obj[\"frames\"][16])\n",
    "\n",
    "print(\"souradnice x1 prvniho boundingboxu ve framu 16: \", obj[\"frames\"][16][0][\"x1\"])"
   ]
  },
  {
   "cell_type": "markdown",
   "metadata": {},
   "source": [
    "## Práce s videem"
   ]
  },
  {
   "cell_type": "code",
   "execution_count": 4,
   "metadata": {},
   "outputs": [
    {
     "name": "stdout",
     "output_type": "stream",
     "text": [
      "['e:/data/lynx_lynx/fotopasti_20170825/videa\\\\bez '\n",
      " 'rysa\\\\lok3\\\\2016_04_23\\\\IMAG0008.AVI',\n",
      " 'e:/data/lynx_lynx/fotopasti_20170825/videa\\\\bez '\n",
      " 'rysa\\\\lok3\\\\2016_04_23\\\\IMAG0010.AVI',\n",
      " 'e:/data/lynx_lynx/fotopasti_20170825/videa\\\\bez '\n",
      " 'rysa\\\\lok3\\\\2016_04_23\\\\IMAG0012.AVI',\n",
      " 'e:/data/lynx_lynx/fotopasti_20170825/videa\\\\bez '\n",
      " 'rysa\\\\lok3\\\\2016_04_23\\\\IMAG0014.AVI',\n",
      " 'e:/data/lynx_lynx/fotopasti_20170825/videa\\\\bez '\n",
      " 'rysa\\\\lok3\\\\2016_04_23\\\\IMAG0020.AVI',\n",
      " 'e:/data/lynx_lynx/fotopasti_20170825/videa\\\\bez '\n",
      " 'rysa\\\\lok3\\\\2016_04_23\\\\IMAG0024.AVI',\n",
      " 'e:/data/lynx_lynx/fotopasti_20170825/videa\\\\bez '\n",
      " 'rysa\\\\lok3\\\\2016_04_23\\\\IMAG0026.AVI',\n",
      " 'e:/data/lynx_lynx/fotopasti_20170825/videa\\\\bez '\n",
      " 'rysa\\\\lok3\\\\2016_04_23\\\\IMAG0028.AVI',\n",
      " 'e:/data/lynx_lynx/fotopasti_20170825/videa\\\\bez '\n",
      " 'rysa\\\\lok3\\\\2016_04_23\\\\IMAG0030.AVI',\n",
      " 'e:/data/lynx_lynx/fotopasti_20170825/videa\\\\bez '\n",
      " 'rysa\\\\lok3\\\\2016_04_23\\\\IMAG0032.AVI']\n"
     ]
    }
   ],
   "source": [
    "# Toto je důležité pro spuštění externího editoru sed3 i ginput\n",
    "% matplotlib qt\n",
    "\n",
    "# conda install -c conda-forge -c mjirik imageio ffmpeg jupyter python=3.6 scikit-image\n",
    "# conda create -n animalwatch -c conda-forge -c mjirik imageio ffmpeg jupyter python=3.6 scikit-image jupyter jupyter_contrib_nbextensions\n",
    "\n",
    "import glob\n",
    "import os.path as op\n",
    "from pprint import pprint\n",
    "import imageio\n",
    "import skimage.color\n",
    "import matplotlib.pyplot as plt\n",
    "import numpy as np\n",
    "\n",
    "plt.ioff()\n",
    "\n",
    "datapath = \"e:/data/lynx_lynx/fotopasti_20170825/videa/**/**/**\"\n",
    "fnvideos = glob.glob(op.join(datapath, \"*.AVI\"))\n",
    "\n",
    "pprint(fnvideos[:10])"
   ]
  },
  {
   "cell_type": "code",
   "execution_count": 5,
   "metadata": {},
   "outputs": [],
   "source": [
    "allframes = None"
   ]
  },
  {
   "cell_type": "code",
   "execution_count": 30,
   "metadata": {},
   "outputs": [
    {
     "name": "stdout",
     "output_type": "stream",
     "text": [
      "e:/data/lynx_lynx/fotopasti_20170825/videa\\bez rysa\\lok3\\2016_04_23\\IMAG0010.AVI\n",
      "900\n",
      "(1280, 720)\n"
     ]
    }
   ],
   "source": [
    "# ivideo = 10\n",
    "ivideo = 1\n",
    "step = 5\n",
    "fn = fnvideos[ivideo]\n",
    "print(fn)\n",
    "vid = imageio.get_reader(fn)\n",
    "frame_size = vid.get_meta_data()[\"size\"]\n",
    "frame_number = vid.get_length()\n",
    "print(frame_number)\n",
    "print(frame_size)\n",
    "\n",
    "\n",
    "allframes = np.zeros([int(frame_number / step), int(frame_size[1]), int(frame_size[0]), 3], dtype=np.uint8)\n",
    "\n",
    "for num in range(0, frame_number, step):\n",
    "    image = vid.get_data(num)\n",
    "#     gray = skimage.color.rgb2gray(image)\n",
    "    allframes[int(num/step), :, :, :] = image"
   ]
  },
  {
   "cell_type": "code",
   "execution_count": 10,
   "metadata": {},
   "outputs": [],
   "source": [
    "# plt.figure()\n",
    "\n"
   ]
  },
  {
   "cell_type": "code",
   "execution_count": 26,
   "metadata": {},
   "outputs": [
    {
     "data": {
      "text/plain": [
       "(180, 720, 1280, 3)"
      ]
     },
     "execution_count": 26,
     "metadata": {},
     "output_type": "execute_result"
    }
   ],
   "source": [
    "allframes.shape"
   ]
  },
  {
   "cell_type": "markdown",
   "metadata": {},
   "source": [
    "### Interaktivita "
   ]
  },
  {
   "cell_type": "markdown",
   "metadata": {},
   "source": [
    "\n",
    "\n",
    "<img src=\"http://home.zcu.cz/~mjirik/lisa/data/lynx_lynx/ginput.png\" width=\"600\"/>"
   ]
  },
  {
   "cell_type": "code",
   "execution_count": 33,
   "metadata": {},
   "outputs": [
    {
     "data": {
      "text/plain": [
       "[(4.661290322580641, 4.97096774193551),\n",
       " (564.6612903225807, 709.4870967741934),\n",
       " (549.1774193548388, 291.42258064516125),\n",
       " (693.6935483870968, 394.6483870967742)]"
      ]
     },
     "execution_count": 33,
     "metadata": {},
     "output_type": "execute_result"
    }
   ],
   "source": [
    "frame_number = 10\n",
    "plt.imshow(allframes[frame_number,...])# , cmap=\"gray\")\n",
    "# left mouse button - add point\n",
    "# right mouse button - remove last point\n",
    "# middle mouse button - finish\n",
    "plt.ginput(-1)"
   ]
  },
  {
   "cell_type": "markdown",
   "metadata": {},
   "source": [
    "## Vyhodnocení pomocí měření Intersection over Union\n",
    "\n",
    "https://stackoverflow.com/questions/25349178/calculating-percentage-of-bounding-box-overlap-for-image-detector-evaluation"
   ]
  },
  {
   "cell_type": "code",
   "execution_count": null,
   "metadata": {},
   "outputs": [],
   "source": [
    "def get_iou(bb1, bb2):\n",
    "    \"\"\"\n",
    "    Calculate the Intersection over Union (IoU) of two bounding boxes.\n",
    "    \n",
    "    by Martin Thoma\n",
    "\n",
    "    Parameters\n",
    "    ----------\n",
    "    bb1 : dict\n",
    "        Keys: {'x1', 'x2', 'y1', 'y2'}\n",
    "        The (x1, y1) position is at the top left corner,\n",
    "        the (x2, y2) position is at the bottom right corner\n",
    "    bb2 : dict\n",
    "        Keys: {'x1', 'x2', 'y1', 'y2'}\n",
    "        The (x, y) position is at the top left corner,\n",
    "        the (x2, y2) position is at the bottom right corner\n",
    "\n",
    "    Returns\n",
    "    -------\n",
    "    float\n",
    "        in [0, 1]\n",
    "    \"\"\"\n",
    "    assert bb1['x1'] < bb1['x2']\n",
    "    assert bb1['y1'] < bb1['y2']\n",
    "    assert bb2['x1'] < bb2['x2']\n",
    "    assert bb2['y1'] < bb2['y2']\n",
    "\n",
    "    # determine the coordinates of the intersection rectangle\n",
    "    x_left = max(bb1['x1'], bb2['x1'])\n",
    "    y_top = max(bb1['y1'], bb2['y1'])\n",
    "    x_right = min(bb1['x2'], bb2['x2'])\n",
    "    y_bottom = min(bb1['y2'], bb2['y2'])\n",
    "\n",
    "    if x_right < x_left or y_bottom < y_top:\n",
    "        return 0.0\n",
    "\n",
    "    # The intersection of two axis-aligned bounding boxes is always an\n",
    "    # axis-aligned bounding box\n",
    "    intersection_area = (x_right - x_left) * (y_bottom - y_top)\n",
    "\n",
    "    # compute the area of both AABBs\n",
    "    bb1_area = (bb1['x2'] - bb1['x1']) * (bb1['y2'] - bb1['y1'])\n",
    "    bb2_area = (bb2['x2'] - bb2['x1']) * (bb2['y2'] - bb2['y1'])\n",
    "\n",
    "    # compute the intersection over union by taking the intersection\n",
    "    # area and dividing it by the sum of prediction + ground-truth\n",
    "    # areas - the interesection area\n",
    "    iou = intersection_area / float(bb1_area + bb2_area - intersection_area)\n",
    "    assert iou >= 0.0\n",
    "    assert iou <= 1.0\n",
    "    return iou"
   ]
  },
  {
   "cell_type": "markdown",
   "metadata": {},
   "source": [
    "# Očekávaná struktura modulu\n",
    "\n"
   ]
  },
  {
   "cell_type": "code",
   "execution_count": 9,
   "metadata": {},
   "outputs": [],
   "source": [
    "def najdi_chlupa(cesta_k_videu, timestamp, lokalita, jmeno_yaml_souboru):\n",
    "    \"\"\"\n",
    "    :param datestamp: \"rrrr-mm-dd-hh:mm\"\n",
    "    \"\"\"\n",
    "    pass\n"
   ]
  },
  {
   "cell_type": "markdown",
   "metadata": {},
   "source": [
    "```toml\n",
    "[setup]\n",
    "sdfasl\n",
    "asdfa\n",
    "```"
   ]
  }
 ],
 "metadata": {
  "kernelspec": {
   "display_name": "Python 3",
   "language": "python",
   "name": "python3"
  },
  "language_info": {
   "codemirror_mode": {
    "name": "ipython",
    "version": 3
   },
   "file_extension": ".py",
   "mimetype": "text/x-python",
   "name": "python",
   "nbconvert_exporter": "python",
   "pygments_lexer": "ipython3",
   "version": "3.6.4"
  }
 },
 "nbformat": 4,
 "nbformat_minor": 2
}
