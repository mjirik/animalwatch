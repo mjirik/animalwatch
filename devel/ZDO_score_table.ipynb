{
 "cells": [
  {
   "cell_type": "code",
   "execution_count": 18,
   "metadata": {},
   "outputs": [
    {
     "name": "stdout",
     "output_type": "stream",
     "text": [
      "Score - video file\n",
      "-------\n",
      "true_video_fn:  IMAG0017.AVI\n",
      "found_annotation_fn ['IMAG0030.avi', 'IMAG0035.AVI', 'IMAG0035_neexistuje.AVI', 'IMAG0039.AVI']\n",
      "0.0 - IMAG0017.AVI - Annotation not found\n",
      "true_video_fn:  IMAG0021.AVI\n",
      "found_annotation_fn ['IMAG0030.avi', 'IMAG0035.AVI', 'IMAG0035_neexistuje.AVI', 'IMAG0039.AVI']\n",
      "0.0 - IMAG0021.AVI - Annotation not found\n",
      "true_video_fn:  IMAG0023.AVI\n",
      "found_annotation_fn ['IMAG0030.avi', 'IMAG0035.AVI', 'IMAG0035_neexistuje.AVI', 'IMAG0039.AVI']\n",
      "0.0 - IMAG0023.AVI - Annotation not found\n",
      "true_video_fn:  IMAG0056.AVI\n",
      "found_annotation_fn ['IMAG0030.avi', 'IMAG0035.AVI', 'IMAG0035_neexistuje.AVI', 'IMAG0039.AVI']\n",
      "0.0 - IMAG0056.AVI - Annotation not found\n",
      "0.48312611012433393 - IMAG0035.AVI\n",
      "1.0 - IMAG0039.AVI\n",
      "true_video_fn:  IMAG0041.AVI\n",
      "found_annotation_fn ['IMAG0030.avi', 'IMAG0035.AVI', 'IMAG0035_neexistuje.AVI', 'IMAG0039.AVI']\n",
      "0.0 - IMAG0041.AVI - Annotation not found\n",
      "true_video_fn:  v__00019.avi\n",
      "found_annotation_fn ['IMAG0030.avi', 'IMAG0035.AVI', 'IMAG0035_neexistuje.AVI', 'IMAG0039.AVI']\n",
      "0.0 - v__00019.avi - Annotation not found\n",
      "true_video_fn:  IMAG0063.AVI\n",
      "found_annotation_fn ['IMAG0030.avi', 'IMAG0035.AVI', 'IMAG0035_neexistuje.AVI', 'IMAG0039.AVI']\n",
      "0.0 - IMAG0063.AVI - Annotation not found\n",
      "true_video_fn:  IMAG0065.AVI\n",
      "found_annotation_fn ['IMAG0030.avi', 'IMAG0035.AVI', 'IMAG0035_neexistuje.AVI', 'IMAG0039.AVI']\n",
      "0.0 - IMAG0065.AVI - Annotation not found\n",
      "true_video_fn:  V__00017.M4V\n",
      "found_annotation_fn ['IMAG0030.avi', 'IMAG0035.AVI', 'IMAG0035_neexistuje.AVI', 'IMAG0039.AVI']\n",
      "0.0 - V__00017.M4V - Annotation not found\n",
      "true_video_fn:  IMAG0028.avi\n",
      "found_annotation_fn ['IMAG0030.avi', 'IMAG0035.AVI', 'IMAG0035_neexistuje.AVI', 'IMAG0039.AVI']\n",
      "0.0 - IMAG0028.avi - Annotation not found\n",
      "1.0 - IMAG0030.avi\n",
      "true_video_fn:  IMAG0032.avi\n",
      "found_annotation_fn ['IMAG0030.avi', 'IMAG0035.AVI', 'IMAG0035_neexistuje.AVI', 'IMAG0039.AVI']\n",
      "0.0 - IMAG0032.avi - Annotation not found\n",
      "true_video_fn:  v__00015.avi\n",
      "found_annotation_fn ['IMAG0030.avi', 'IMAG0035.AVI', 'IMAG0035_neexistuje.AVI', 'IMAG0039.AVI']\n",
      "0.0 - v__00015.avi - Annotation not found\n",
      "=======\n",
      "Score without failed (3/15): 0.827708703374778\n",
      "Score: 0.1655417406749556\n",
      "true_video_fn:  IMAG0035.AVI\n",
      "found_annotation_fn []\n"
     ]
    }
   ],
   "source": [
    "%run validator.ipynb"
   ]
  },
  {
   "cell_type": "code",
   "execution_count": 22,
   "metadata": {
    "scrolled": false
   },
   "outputs": [
    {
     "name": "stdout",
     "output_type": "stream",
     "text": [
      "Score - video file\n",
      "-------\n",
      "0.018539172450546926 - IMAG0017.avi\n",
      "0.1875512764099726 - IMAG0021.avi\n",
      "0.04174330906357376 - IMAG0023.avi\n",
      "0.2525327448407859 - IMAG0056.avi\n",
      "0.009707495139861383 - IMAG0035.avi\n",
      "0.3810253667563583 - IMAG0039.avi\n",
      "0.33801707567900713 - IMAG0041.avi\n",
      "0.1724359622640816 - v__00019.avi\n",
      "0.0947732711214538 - IMAG0063.AVI\n",
      "0.23783776140210883 - IMAG0065.AVI\n",
      "true_video_fn:  V__00017.M4V\n",
      "found_annotation_fn ['IMAG0017.avi', 'IMAG0021.avi', 'IMAG0023.avi', 'IMAG0028.avi', 'IMAG0030.avi', 'IMAG0032.avi', 'IMAG0035.avi', 'IMAG0039.avi', 'IMAG0041.avi', 'IMAG0056.avi', 'IMAG0063.AVI', 'IMAG0065.AVI', 'v__00015.avi', 'v__00019.avi']\n",
      "0.0 - V__00017.M4V - Annotation not found\n",
      "0.5802612771818465 - IMAG0028.avi\n",
      "0.47832149132579166 - IMAG0030.avi\n",
      "0.4844763951864485 - IMAG0032.avi\n",
      "0.6908635378904929 - v__00015.avi\n",
      "=======\n",
      "Score without failed (14/15): 0.28343472405088066\n",
      "Score: 0.264539075780822\n"
     ]
    },
    {
     "data": {
      "text/plain": [
       "0.264539075780822"
      ]
     },
     "execution_count": 22,
     "metadata": {},
     "output_type": "execute_result"
    }
   ],
   "source": [
    "evaluate_dir(true_annotations_path, r\"C:\\Users\\miros\\projects\\zdo_lynx_lynx\\ZDO_SP_Sosnova_Cincera\\Anotace\")"
   ]
  },
  {
   "cell_type": "code",
   "execution_count": null,
   "metadata": {},
   "outputs": [],
   "source": []
  }
 ],
 "metadata": {
  "kernelspec": {
   "display_name": "Python 3",
   "language": "python",
   "name": "python3"
  },
  "language_info": {
   "codemirror_mode": {
    "name": "ipython",
    "version": 3
   },
   "file_extension": ".py",
   "mimetype": "text/x-python",
   "name": "python",
   "nbconvert_exporter": "python",
   "pygments_lexer": "ipython3",
   "version": "3.6.4"
  }
 },
 "nbformat": 4,
 "nbformat_minor": 2
}
