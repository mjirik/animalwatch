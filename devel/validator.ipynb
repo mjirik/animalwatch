{
 "cells": [
  {
   "cell_type": "markdown",
   "metadata": {},
   "source": [
    "# Animalwatch validator"
   ]
  },
  {
   "cell_type": "code",
   "execution_count": 1,
   "metadata": {},
   "outputs": [],
   "source": [
    "import glob\n",
    "import os.path as op\n",
    "\n",
    "import numpy as np\n",
    "from io import open\n",
    "from ruamel.yaml import YAML\n",
    "yaml = YAML(typ=\"unsafe\")"
   ]
  },
  {
   "cell_type": "code",
   "execution_count": 2,
   "metadata": {},
   "outputs": [],
   "source": [
    "true_annotations_path = \"E:\\\\data\\\\lynx_lynx\\\\zdo\\\\anotace\"\n",
    "annotations_path = \"E:\\\\data\\\\lynx_lynx\\\\zdo\\\\anotace_test\"\n"
   ]
  },
  {
   "cell_type": "code",
   "execution_count": 41,
   "metadata": {},
   "outputs": [],
   "source": [
    "def evaluate_dir(true_annotations_path, annotations_path):\n",
    "    \"\"\"\n",
    "    :param true_annotations_path: path to directory with subdirectories with annotations\n",
    "    :param annotations_path: path to students annotations with no subdirs\n",
    "    \"\"\"\n",
    "    \n",
    "    true_annotation_files = glob.glob(op.join(true_annotations_path, \"**\", \"*.y*ml\"))\n",
    "    score = []\n",
    "    score_failed = []\n",
    "    nok = 0\n",
    "    nerr = 0\n",
    "    print(\"Score - video file\")\n",
    "    print(\"-------\")\n",
    "    for true_annotation_fn in true_annotation_files:\n",
    "        annotation_fn, video_fn = find_annotation(annotations_path, true_annotation_fn)\n",
    "        if annotation_fn is None:\n",
    "            print(\"0.0 - \" + str(video_fn) + \" - Annotation not found\")\n",
    "#             print(\"annotations_path: \", annotations_path)\n",
    "#             print(\"true_annotation_fn: \", true_annotation_fn)\n",
    "            score_failed.append(0.0)\n",
    "        else:\n",
    "            sc = compare_yaml_objs(\n",
    "                get_yaml_obj(annotation_fn),\n",
    "                get_yaml_obj(true_annotation_fn)\n",
    "            )\n",
    "            score.append(sc)\n",
    "            print(str(sc) + \" - \" + str(video_fn))\n",
    "        \n",
    "    print(\"=======\")\n",
    "    score_ok = np.average(score)\n",
    "    print(\"Score without failed (\" + str(len(score)) +\"/\" + str(len(score) + len(score_failed)) + \"): \" + str(score_ok))\n",
    "    score.extend(score_failed)\n",
    "    score = np.average(score)\n",
    "    print(\"Score: \" + str(score))\n",
    "    return score\n",
    "    \n",
    "\n",
    "\n",
    "def get_iou(bb1, bb2):\n",
    "    \"\"\"\n",
    "    Calculate the Intersection over Union (IoU) of two bounding boxes.\n",
    "    \n",
    "    by Martin Thoma\n",
    "\n",
    "    Parameters\n",
    "    ----------\n",
    "    bb1 : dict\n",
    "        Keys: {'x1', 'x2', 'y1', 'y2'}\n",
    "        The (x1, y1) position is at the top left corner,\n",
    "        the (x2, y2) position is at the bottom right corner\n",
    "    bb2 : dict\n",
    "        Keys: {'x1', 'x2', 'y1', 'y2'}\n",
    "        The (x, y) position is at the top left corner,\n",
    "        the (x2, y2) position is at the bottom right corner\n",
    "\n",
    "    Returns\n",
    "    -------\n",
    "    float\n",
    "        in [0, 1]\n",
    "    \"\"\"\n",
    "    assert bb1['x1'] < bb1['x2']\n",
    "    assert bb1['y1'] < bb1['y2']\n",
    "    assert bb2['x1'] < bb2['x2']\n",
    "    assert bb2['y1'] < bb2['y2']\n",
    "\n",
    "    # determine the coordinates of the intersection rectangle\n",
    "    x_left = max(bb1['x1'], bb2['x1'])\n",
    "    y_top = max(bb1['y1'], bb2['y1'])\n",
    "    x_right = min(bb1['x2'], bb2['x2'])\n",
    "    y_bottom = min(bb1['y2'], bb2['y2'])\n",
    "\n",
    "    if x_right < x_left or y_bottom < y_top:\n",
    "        return 0.0\n",
    "\n",
    "    # The intersection of two axis-aligned bounding boxes is always an\n",
    "    # axis-aligned bounding box\n",
    "    intersection_area = (x_right - x_left) * (y_bottom - y_top)\n",
    "\n",
    "    # compute the area of both AABBs\n",
    "    bb1_area = (bb1['x2'] - bb1['x1']) * (bb1['y2'] - bb1['y1'])\n",
    "    bb2_area = (bb2['x2'] - bb2['x1']) * (bb2['y2'] - bb2['y1'])\n",
    "\n",
    "    # compute the intersection over union by taking the intersection\n",
    "    # area and dividing it by the sum of prediction + ground-truth\n",
    "    # areas - the interesection area\n",
    "    iou = intersection_area / float(bb1_area + bb2_area - intersection_area)\n",
    "    assert iou >= 0.0\n",
    "    assert iou <= 1.0\n",
    "    return iou\n",
    "\n",
    "def get_iou_safe(bb1, bb2):\n",
    "    if len(bb1) == 0 and len(bb2) == 0:\n",
    "        score = 1.0\n",
    "    else:\n",
    "        try:\n",
    "            score = get_iou(bb1, bb2)\n",
    "        except Exception as e:\n",
    "            score = 0.0\n",
    "    \n",
    "    \n",
    "    return score\n",
    "\n",
    "def find_annotation(annotations_path, true_annotation_file):\n",
    "    annotation_files = glob.glob(op.join(annotations_path, \"*.y*ml\"))\n",
    "    true_video_fn = get_video_file_name(true_annotation_file)\n",
    "    found_annotation_fn = []\n",
    "    for filename in annotation_files:\n",
    "        video_fn = get_video_file_name(filename)\n",
    "        found_annotation_fn.append(video_fn)\n",
    "#         print(\"video_fn: \", video_fn)\n",
    "        if video_fn.upper() == true_video_fn.upper():\n",
    "            return filename, video_fn\n",
    "            \n",
    "    \n",
    "    print(\"true_video_fn: \", true_video_fn)\n",
    "    print(\"found_annotation_fn\", found_annotation_fn)\n",
    "#     print(\"annotation_files: \", annotation_files)\n",
    "    return None, true_video_fn\n",
    "\n",
    "\n",
    "def compare_bboxes(bboxes1, bboxes2):\n",
    "    scores = []\n",
    "    lbb1 = len(bboxes1)\n",
    "    lbb2 = len(bboxes2)\n",
    "    \n",
    "    if lbb1 == 0 and lbb2 == 0:\n",
    "            return 1.0\n",
    "    elif lbb1 == 0:\n",
    "            return 0.0\n",
    "    elif lbb2 == 0:\n",
    "            return 0.0\n",
    "\n",
    "    for bbox1 in bboxes1:\n",
    "        scores_for_one = []\n",
    "        for bbox2 in bboxes2:\n",
    "            scores_for_one.append(get_iou_safe(bbox1, bbox2))\n",
    "#             print(bbox1, bbox2)\n",
    "        \n",
    "        scores.append(np.max(scores_for_one))\n",
    "#     print(\"compare_bboxes \", len(bboxes1), len(bboxes2), scores)\n",
    "    return np.average(scores)\n",
    "\n",
    "def compare_bboxes_symmetric(bboxes1, bboxes2):\n",
    "    return np.average([\n",
    "        compare_bboxes(bboxes1, bboxes2),\n",
    "        compare_bboxes(bboxes2, bboxes1),\n",
    "    ])\n",
    "        \n",
    "def compare_frames(true_yaml_obj, yaml_obj, frame_number):\n",
    "    bb1 = get_bboxes_from_frame(true_yaml_obj, frame_number)\n",
    "    bb2 = get_bboxes_from_frame(yaml_obj, frame_number)\n",
    "    return compare_bboxes_symmetric(bb1, bb2)\n",
    "    \n",
    "def get_frame_number(yaml_obj):\n",
    "    return np.max(list(yaml_obj[\"frames\"]))\n",
    "\n",
    "\n",
    "def compare_yaml_objs(true_yaml_obj, yaml_obj):\n",
    "    frame_number = int(np.max([get_frame_number(yaml_obj), get_frame_number(true_yaml_obj)]))\n",
    "    scores = []\n",
    "    for i in range(0, frame_number):\n",
    "        scores.append(compare_frames(true_yaml_obj, yaml_obj, frame_number=i))\n",
    "    \n",
    "#     print(scores)\n",
    "    return np.average(scores)\n",
    "                       \n",
    "def get_yaml_obj(yaml_fn):\n",
    "    with open(yaml_fn, encoding=\"utf-8\") as f:\n",
    "        obj = yaml.load(f)\n",
    "    return obj\n",
    "\n",
    "def get_video_file_name(yaml_fn):\n",
    "    obj = get_yaml_obj(yaml_fn)\n",
    "    _, video_fn = op.split(obj[\"path\"])\n",
    "    return video_fn\n",
    "    \n",
    "def get_bboxes_from_frame(yaml_obj, frame_number):\n",
    "#     print(frame_number)\n",
    "    if frame_number in yaml_obj[\"frames\"]:\n",
    "        bboxes = yaml_obj[\"frames\"][frame_number]\n",
    "    else:\n",
    "        bboxes = [\n",
    "#                 {\n",
    "#                 \"x1\": 0,\n",
    "#                 \"x2\": 0,\n",
    "#                 \"y1\": 0,\n",
    "#                 \"y2\": 0,\n",
    "#             }\n",
    "        ]\n",
    "#         print(\"zero\")\n",
    "    return bboxes\n",
    "\n",
    "# def compare_bboxes(bboxes1, bboxes2):\n",
    "#     scores = []\n",
    "#     lbb1 = len(bboxes1)\n",
    "#     lbb2 = len(bboxes2)\n",
    "    \n",
    "#     if lbb1 == 0 and lbb2 == 0:\n",
    "#             return 1.0\n",
    "#     elif lbb1 == 0:\n",
    "#             return 0.0\n",
    "#     elif lbb2 == 0:\n",
    "#             return 0.0\n",
    "\n",
    "#     for bbox1 in bboxes1:\n",
    "#         scores_for_one = []\n",
    "#         for bbox2 in bboxes2:\n",
    "#             scores_for_one.append(get_iou_safe(bbox1, bbox2))\n",
    "# #             print(bbox1, bbox2)\n",
    "        \n",
    "#         scores.append(np.max(scores_for_one))\n",
    "# #     print(\"compare_bboxes \", len(bboxes1), len(bboxes2), scores)\n",
    "#     return np.average(scores)\n",
    "\n",
    "# def compare_bboxes_symmetric(bboxes1, bboxes2):\n",
    "#     return np.average([\n",
    "#         compare_bboxes(bboxes1, bboxes2),\n",
    "#         compare_bboxes(bboxes2, bboxes1),\n",
    "#     ])\n",
    "        \n",
    "# def compare_frames(true_yaml_obj, yaml_obj, frame_number):\n",
    "#     bb1 = get_bboxes_from_frame(true_yaml_obj, frame_number)\n",
    "#     bb2 = get_bboxes_from_frame(yaml_obj, frame_number)\n",
    "#     return compare_bboxes_symmetric(bb1, bb2)\n",
    "    \n",
    "# def get_frame_number(yaml_obj):\n",
    "#     return np.max(list(yaml_obj[\"frames\"]))\n",
    "\n",
    "\n",
    "# def compare_yaml_objs(true_yaml_obj, yaml_obj):\n",
    "#     frame_number = int(np.max([get_frame_number(yaml_obj), get_frame_number(true_yaml_obj)]))\n",
    "#     scores = []\n",
    "#     for i in range(0, frame_number):\n",
    "#         scores.append(compare_frames(true_yaml_obj, yaml_obj, frame_number=i))\n",
    "    \n",
    "# #     print(scores)\n",
    "#     return np.average(scores)\n",
    "                       \n",
    "# def get_yaml_obj(yaml_fn):\n",
    "#     with open(yaml_fn, encoding=\"utf-8\") as f:\n",
    "#         obj = yaml.load(f)\n",
    "#     return obj\n",
    "\n",
    "# def get_video_file_name(yaml_fn):\n",
    "#     obj = get_yaml_obj(yaml_fn)\n",
    "#     video_fn = obj[\"path\"]\n",
    "#     return video_fn\n",
    "    \n",
    "# def get_bboxes_from_frame(yaml_obj, frame_number):\n",
    "# #     print(frame_number)\n",
    "#     if frame_number in yaml_obj[\"frames\"]:\n",
    "#         bboxes = yaml_obj[\"frames\"][frame_number]\n",
    "#     else:\n",
    "#         bboxes = [\n",
    "# #                 {\n",
    "# #                 \"x1\": 0,\n",
    "# #                 \"x2\": 0,\n",
    "# #                 \"y1\": 0,\n",
    "# #                 \"y2\": 0,\n",
    "# #             }\n",
    "#         ]\n",
    "# #         print(\"zero\")\n",
    "#     return bboxes"
   ]
  },
  {
   "cell_type": "markdown",
   "metadata": {},
   "source": [
    "# Example"
   ]
  },
  {
   "cell_type": "code",
   "execution_count": 4,
   "metadata": {},
   "outputs": [
    {
     "name": "stdout",
     "output_type": "stream",
     "text": [
      "Score - video file\n",
      "-------\n",
      "0.0 - IMAG0017.AVI - Annotation not found\n",
      "annotations_path:  E:\\data\\lynx_lynx\\zdo\\anotace_test\n",
      "true_annotation_fn:  E:\\data\\lynx_lynx\\zdo\\anotace\\01\\IMAG0017.yaml\n",
      "0.0 - IMAG0021.AVI - Annotation not found\n",
      "annotations_path:  E:\\data\\lynx_lynx\\zdo\\anotace_test\n",
      "true_annotation_fn:  E:\\data\\lynx_lynx\\zdo\\anotace\\01\\IMAG0021.yaml\n",
      "0.0 - IMAG0023.AVI - Annotation not found\n",
      "annotations_path:  E:\\data\\lynx_lynx\\zdo\\anotace_test\n",
      "true_annotation_fn:  E:\\data\\lynx_lynx\\zdo\\anotace\\01\\IMAG0023.yaml\n",
      "0.0 - IMAG0056.AVI - Annotation not found\n",
      "annotations_path:  E:\\data\\lynx_lynx\\zdo\\anotace_test\n",
      "true_annotation_fn:  E:\\data\\lynx_lynx\\zdo\\anotace\\01\\IMAG0056.yaml\n",
      "0.48312611012433393 - IMAG0035.AVI\n",
      "1.0 - IMAG0039.AVI\n",
      "0.0 - IMAG0041.AVI - Annotation not found\n",
      "annotations_path:  E:\\data\\lynx_lynx\\zdo\\anotace_test\n",
      "true_annotation_fn:  E:\\data\\lynx_lynx\\zdo\\anotace\\03\\IMAG0041.yml\n",
      "0.0 - v__00019.avi - Annotation not found\n",
      "annotations_path:  E:\\data\\lynx_lynx\\zdo\\anotace_test\n",
      "true_annotation_fn:  E:\\data\\lynx_lynx\\zdo\\anotace\\03\\v__00019.yml\n",
      "0.0 - 05/IMAG0063.AVI - Annotation not found\n",
      "annotations_path:  E:\\data\\lynx_lynx\\zdo\\anotace_test\n",
      "true_annotation_fn:  E:\\data\\lynx_lynx\\zdo\\anotace\\05\\imag0063.yaml\n",
      "0.0 - 05/IMAG0065.AVI - Annotation not found\n",
      "annotations_path:  E:\\data\\lynx_lynx\\zdo\\anotace_test\n",
      "true_annotation_fn:  E:\\data\\lynx_lynx\\zdo\\anotace\\05\\imag0065.yaml\n",
      "0.0 - 05/V__00017.M4V - Annotation not found\n",
      "annotations_path:  E:\\data\\lynx_lynx\\zdo\\anotace_test\n",
      "true_annotation_fn:  E:\\data\\lynx_lynx\\zdo\\anotace\\05\\V__00017.yaml\n",
      "0.0 - IMAG0028.avi - Annotation not found\n",
      "annotations_path:  E:\\data\\lynx_lynx\\zdo\\anotace_test\n",
      "true_annotation_fn:  E:\\data\\lynx_lynx\\zdo\\anotace\\06\\anotation_IMAG0028.yaml\n",
      "1.0 - IMAG0030.avi\n",
      "0.0 - IMAG0032.avi - Annotation not found\n",
      "annotations_path:  E:\\data\\lynx_lynx\\zdo\\anotace_test\n",
      "true_annotation_fn:  E:\\data\\lynx_lynx\\zdo\\anotace\\06\\anotation_IMAG0032.yaml\n",
      "0.0 - v__00015.avi - Annotation not found\n",
      "annotations_path:  E:\\data\\lynx_lynx\\zdo\\anotace_test\n",
      "true_annotation_fn:  E:\\data\\lynx_lynx\\zdo\\anotace\\06\\anotation_v__00015.yaml\n",
      "=======\n",
      "Score: 0.1655417406749556\n"
     ]
    },
    {
     "data": {
      "text/plain": [
       "0.1655417406749556"
      ]
     },
     "execution_count": 4,
     "metadata": {},
     "output_type": "execute_result"
    }
   ],
   "source": [
    "evaluate_dir(true_annotations_path, annotations_path)"
   ]
  },
  {
   "cell_type": "markdown",
   "metadata": {},
   "source": [
    "# Debug tests"
   ]
  },
  {
   "cell_type": "code",
   "execution_count": 5,
   "metadata": {},
   "outputs": [],
   "source": [
    "# filename = \"anotace.yaml\"\n",
    "\n",
    "# yaml = YAML(typ=\"unsafe\")\n",
    "# with open(filename, encoding=\"utf-8\") as f:\n",
    "#     obj = yaml.load(f)"
   ]
  },
  {
   "cell_type": "code",
   "execution_count": 6,
   "metadata": {},
   "outputs": [
    {
     "data": {
      "text/plain": [
       "'E:\\\\data\\\\lynx_lynx\\\\zdo\\\\anotace_test\\\\anotation_IMAG0030.yaml'"
      ]
     },
     "execution_count": 6,
     "metadata": {},
     "output_type": "execute_result"
    }
   ],
   "source": [
    "files = glob.glob(op.join(annotations_path, \"*.y*ml\"))\n",
    "files[0]"
   ]
  },
  {
   "cell_type": "code",
   "execution_count": null,
   "metadata": {},
   "outputs": [],
   "source": []
  },
  {
   "cell_type": "code",
   "execution_count": 32,
   "metadata": {},
   "outputs": [],
   "source": [
    "yaml_fn = files[1]\n",
    "\n",
    "video_fn = get_video_file_name(yaml_fn)\n",
    "# print(video_fn, yaml_fn)"
   ]
  },
  {
   "cell_type": "code",
   "execution_count": 8,
   "metadata": {},
   "outputs": [
    {
     "data": {
      "text/plain": [
       "0.17465212485896953"
      ]
     },
     "execution_count": 8,
     "metadata": {},
     "output_type": "execute_result"
    }
   ],
   "source": [
    "true_yaml_obj = get_yaml_obj(yaml_fn)\n",
    "\n",
    "bb1 = true_yaml_obj[\"frames\"][1][0]\n",
    "bb2 = true_yaml_obj[\"frames\"][5][0]\n",
    "\n",
    "get_iou(bb1, bb2)"
   ]
  },
  {
   "cell_type": "code",
   "execution_count": null,
   "metadata": {},
   "outputs": [],
   "source": [
    "            \n",
    "        \n",
    "    "
   ]
  },
  {
   "cell_type": "code",
   "execution_count": 9,
   "metadata": {},
   "outputs": [
    {
     "data": {
      "text/plain": [
       "0.17465212485896953"
      ]
     },
     "execution_count": 9,
     "metadata": {},
     "output_type": "execute_result"
    }
   ],
   "source": [
    "compare_bboxes(get_bboxes_from_frame(true_yaml_obj, 5), get_bboxes_from_frame(true_yaml_obj, 1))"
   ]
  },
  {
   "cell_type": "code",
   "execution_count": 10,
   "metadata": {},
   "outputs": [],
   "source": [
    "assert(compare_bboxes(\n",
    "    [{'x1': 341, 'x2': 459, 'y1': 417, 'y2': 491}, {'x1': 541, 'x2': 559, 'y1': 517, 'y2': 591}], \n",
    "    [{'x1': 341, 'x2': 459, 'y1': 417, 'y2': 491}, {'x1': 541, 'x2': 559, 'y1': 517, 'y2': 591}]) == 1.0)"
   ]
  },
  {
   "cell_type": "code",
   "execution_count": 11,
   "metadata": {},
   "outputs": [
    {
     "data": {
      "text/plain": [
       "0.75"
      ]
     },
     "execution_count": 11,
     "metadata": {},
     "output_type": "execute_result"
    }
   ],
   "source": [
    "compare_bboxes_symmetric(\n",
    "    [{'x1': 341, 'x2': 459, 'y1': 417, 'y2': 491}, {'x1': 541, 'x2': 559, 'y1': 517, 'y2': 591}],\n",
    "    [{'x1': 341, 'x2': 459, 'y1': 417, 'y2': 491}], \n",
    ")"
   ]
  },
  {
   "cell_type": "code",
   "execution_count": 12,
   "metadata": {},
   "outputs": [],
   "source": [
    "assert(\n",
    "    compare_bboxes_symmetric(\n",
    "        [{'x1': 341, 'x2': 459, 'y1': 417, 'y2': 491}, {'x1': 541, 'x2': 559, 'y1': 517, 'y2': 591}],\n",
    "        [{'x1': 0, 'x2': 1, 'y1': 0, 'y2': 0}], \n",
    "    ) == 0.0\n",
    ")"
   ]
  },
  {
   "cell_type": "code",
   "execution_count": 13,
   "metadata": {},
   "outputs": [],
   "source": [
    "# true_yaml_obj"
   ]
  },
  {
   "cell_type": "code",
   "execution_count": 14,
   "metadata": {},
   "outputs": [],
   "source": [
    "assert(\n",
    "    compare_frames(true_yaml_obj, true_yaml_obj, frame_number=5) == 1\n",
    ")"
   ]
  },
  {
   "cell_type": "code",
   "execution_count": 15,
   "metadata": {},
   "outputs": [],
   "source": [
    "assert(\n",
    "    compare_yaml_objs(get_yaml_obj(files[0]), get_yaml_obj(files[0])) == 1\n",
    ")"
   ]
  },
  {
   "cell_type": "code",
   "execution_count": null,
   "metadata": {},
   "outputs": [],
   "source": []
  },
  {
   "cell_type": "code",
   "execution_count": 16,
   "metadata": {},
   "outputs": [],
   "source": [
    "assert('E:\\\\data\\\\lynx_lynx\\\\zdo\\\\anotace_test\\\\IMAG0021.yaml' in files)"
   ]
  },
  {
   "cell_type": "code",
   "execution_count": 31,
   "metadata": {
    "scrolled": true
   },
   "outputs": [
    {
     "name": "stdout",
     "output_type": "stream",
     "text": [
      "true_video_fn:  IMAG0035.AVI\n",
      "annotation_files:  []\n"
     ]
    }
   ],
   "source": [
    "fn1, fn2 = find_annotation(true_annotations_path, files[1])\n",
    "assert(fn1 is None)"
   ]
  },
  {
   "cell_type": "code",
   "execution_count": 18,
   "metadata": {},
   "outputs": [],
   "source": [
    "# \"asd\" == \"asd\""
   ]
  },
  {
   "cell_type": "code",
   "execution_count": 19,
   "metadata": {},
   "outputs": [],
   "source": [
    "# files"
   ]
  },
  {
   "cell_type": "markdown",
   "metadata": {},
   "source": [
    "## Debug 4 files found"
   ]
  },
  {
   "cell_type": "code",
   "execution_count": 43,
   "metadata": {},
   "outputs": [
    {
     "data": {
      "text/plain": [
       "('C:\\\\Users\\\\miros\\\\projects\\\\zdo_lynx_lynx\\\\ZDO_SP_Sosnova_Cincera\\\\Anotace\\\\IMAG0017.yaml',\n",
       " 'IMAG0017.avi')"
      ]
     },
     "execution_count": 43,
     "metadata": {},
     "output_type": "execute_result"
    }
   ],
   "source": [
    "find_annotation(\n",
    "    r\"C:\\Users\\miros\\projects\\zdo_lynx_lynx\\ZDO_SP_Sosnova_Cincera\\Anotace\",\n",
    "    r\"E:\\data\\lynx_lynx\\zdo\\anotace\\01\\IMAG0017.yaml\"\n",
    ")"
   ]
  },
  {
   "cell_type": "code",
   "execution_count": 29,
   "metadata": {},
   "outputs": [
    {
     "data": {
      "text/plain": [
       "'SDFA'"
      ]
     },
     "execution_count": 29,
     "metadata": {},
     "output_type": "execute_result"
    }
   ],
   "source": [
    "# \"sdfa\".upper()"
   ]
  },
  {
   "cell_type": "code",
   "execution_count": 40,
   "metadata": {},
   "outputs": [],
   "source": [
    "import os.path as op\n",
    "_, uu = op.split(\"uur/safs/asdfsda.avi\")"
   ]
  }
 ],
 "metadata": {
  "kernelspec": {
   "display_name": "Python 3",
   "language": "python",
   "name": "python3"
  },
  "language_info": {
   "codemirror_mode": {
    "name": "ipython",
    "version": 3
   },
   "file_extension": ".py",
   "mimetype": "text/x-python",
   "name": "python",
   "nbconvert_exporter": "python",
   "pygments_lexer": "ipython3",
   "version": "3.6.4"
  }
 },
 "nbformat": 4,
 "nbformat_minor": 2
}
